{
 "cells": [
  {
   "cell_type": "code",
   "execution_count": 1,
   "id": "549a83e6-bf21-4486-80ce-b7ec3cd76697",
   "metadata": {
    "tags": []
   },
   "outputs": [
    {
     "name": "stdout",
     "output_type": "stream",
     "text": [
      "Requirement already satisfied: pyspark in /usr/local/spark-3.3.2-bin-hadoop3/python (3.3.2)\n",
      "Collecting py4j==0.10.9.5\n",
      "  Downloading py4j-0.10.9.5-py2.py3-none-any.whl (199 kB)\n",
      "\u001b[2K     \u001b[90m━━━━━━━━━━━━━━━━━━━━━━━━━━━━━━━━━━━━━━━\u001b[0m \u001b[32m199.7/199.7 kB\u001b[0m \u001b[31m2.2 MB/s\u001b[0m eta \u001b[36m0:00:00\u001b[0ma \u001b[36m0:00:01\u001b[0m\n",
      "\u001b[?25hInstalling collected packages: py4j\n",
      "Successfully installed py4j-0.10.9.5\n"
     ]
    }
   ],
   "source": [
    "!pip install pyspark"
   ]
  },
  {
   "cell_type": "markdown",
   "id": "e02b25b9-9949-4e9e-9855-233d9221220d",
   "metadata": {},
   "source": [
    "#### Homework: https://www.datacamp.com/tutorial/pyspark-tutorial-getting-started-with-pyspark"
   ]
  },
  {
   "cell_type": "markdown",
   "id": "ccee3dd4-0c03-4fc2-a7e0-a0a2c85eca94",
   "metadata": {},
   "source": [
    "#### Step 1: Creating a SparkSession"
   ]
  },
  {
   "cell_type": "code",
   "execution_count": 4,
   "id": "495735db-233b-4eaa-b569-bfa2068aa899",
   "metadata": {
    "tags": []
   },
   "outputs": [],
   "source": [
    "from pyspark.sql import SparkSession\n",
    "spark = SparkSession.builder.master(\"local\").appName(\"PySparkTest\").getOrCreate()"
   ]
  },
  {
   "cell_type": "markdown",
   "id": "cc9d6c7c-959f-488c-b709-5a45acd6836e",
   "metadata": {},
   "source": [
    "#### Step 2: Creating the DataFrame"
   ]
  },
  {
   "cell_type": "code",
   "execution_count": 6,
   "id": "89f56353-095b-439c-8b05-992d1a9ffcd3",
   "metadata": {
    "tags": []
   },
   "outputs": [],
   "source": [
    "df = spark.read.csv('OnlineRetail.csv',header=True,escape=\"\\\"\")"
   ]
  },
  {
   "cell_type": "code",
   "execution_count": 7,
   "id": "af7116f1-61f2-438f-a9f4-8d075574bcd4",
   "metadata": {
    "tags": []
   },
   "outputs": [
    {
     "name": "stdout",
     "output_type": "stream",
     "text": [
      "+---------+---------+-----------------------------------+--------+------------+---------+----------+--------------+\n",
      "|InvoiceNo|StockCode|Description                        |Quantity|InvoiceDate |UnitPrice|CustomerID|Country       |\n",
      "+---------+---------+-----------------------------------+--------+------------+---------+----------+--------------+\n",
      "|536365   |85123A   |WHITE HANGING HEART T-LIGHT HOLDER |6       |12/1/10 8:26|2,55     |17850     |United Kingdom|\n",
      "|536365   |71053    |WHITE METAL LANTERN                |6       |12/1/10 8:26|3,39     |17850     |United Kingdom|\n",
      "|536365   |84406B   |CREAM CUPID HEARTS COAT HANGER     |8       |12/1/10 8:26|2,75     |17850     |United Kingdom|\n",
      "|536365   |84029G   |KNITTED UNION FLAG HOT WATER BOTTLE|6       |12/1/10 8:26|3,39     |17850     |United Kingdom|\n",
      "|536365   |84029E   |RED WOOLLY HOTTIE WHITE HEART.     |6       |12/1/10 8:26|3,39     |17850     |United Kingdom|\n",
      "+---------+---------+-----------------------------------+--------+------------+---------+----------+--------------+\n",
      "only showing top 5 rows\n",
      "\n"
     ]
    }
   ],
   "source": [
    "df.show(5,0)"
   ]
  },
  {
   "cell_type": "markdown",
   "id": "51a79ba0-02e6-4ca2-974c-45942883155d",
   "metadata": {},
   "source": [
    "#### Step 3: Exploratory Data Analysis"
   ]
  },
  {
   "cell_type": "code",
   "execution_count": 8,
   "id": "a2fc6462-01c4-4605-b229-bfe56fdb4b4c",
   "metadata": {
    "tags": []
   },
   "outputs": [
    {
     "data": {
      "text/plain": [
       "541909"
      ]
     },
     "execution_count": 8,
     "metadata": {},
     "output_type": "execute_result"
    }
   ],
   "source": [
    "#Counting the number of rows in the dataframe:\n",
    "df.count()"
   ]
  },
  {
   "cell_type": "code",
   "execution_count": 10,
   "id": "28272c06-8672-4227-aa25-405074c18c55",
   "metadata": {
    "tags": []
   },
   "outputs": [
    {
     "data": {
      "text/plain": [
       "4373"
      ]
     },
     "execution_count": 10,
     "metadata": {},
     "output_type": "execute_result"
    }
   ],
   "source": [
    "#How many unique customers are present in the dataframe?\n",
    "df.select('CustomerID').distinct().count()"
   ]
  },
  {
   "cell_type": "code",
   "execution_count": 11,
   "id": "cff6d06e-4314-4489-b046-3138cde4f6ae",
   "metadata": {
    "tags": []
   },
   "outputs": [
    {
     "name": "stdout",
     "output_type": "stream",
     "text": [
      "+------------------+-------------+\n",
      "|           Country|country_count|\n",
      "+------------------+-------------+\n",
      "|            Sweden|            8|\n",
      "|         Singapore|            1|\n",
      "|           Germany|           95|\n",
      "|               RSA|            1|\n",
      "|            France|           87|\n",
      "|            Greece|            4|\n",
      "|European Community|            1|\n",
      "|           Belgium|           25|\n",
      "|           Finland|           12|\n",
      "|             Malta|            2|\n",
      "|       Unspecified|            4|\n",
      "|             Italy|           15|\n",
      "|              EIRE|            3|\n",
      "|         Lithuania|            1|\n",
      "|            Norway|           10|\n",
      "|             Spain|           31|\n",
      "|           Denmark|            9|\n",
      "|         Hong Kong|            0|\n",
      "|            Israel|            4|\n",
      "|           Iceland|            1|\n",
      "+------------------+-------------+\n",
      "only showing top 20 rows\n",
      "\n"
     ]
    }
   ],
   "source": [
    "#What country do most purchases come from?\n",
    "from pyspark.sql.functions import *\n",
    "from pyspark.sql.types import *\n",
    "\n",
    "df.groupBy('Country').agg(countDistinct('CustomerID').alias('country_count')).show()"
   ]
  },
  {
   "cell_type": "code",
   "execution_count": 13,
   "id": "4c0be5e1-58b2-4664-b161-1f4dff558a12",
   "metadata": {
    "tags": []
   },
   "outputs": [
    {
     "name": "stdout",
     "output_type": "stream",
     "text": [
      "+---------------+-------------+\n",
      "|        Country|country_count|\n",
      "+---------------+-------------+\n",
      "| United Kingdom|         3950|\n",
      "|        Germany|           95|\n",
      "|         France|           87|\n",
      "|          Spain|           31|\n",
      "|        Belgium|           25|\n",
      "|    Switzerland|           21|\n",
      "|       Portugal|           19|\n",
      "|          Italy|           15|\n",
      "|        Finland|           12|\n",
      "|        Austria|           11|\n",
      "|         Norway|           10|\n",
      "|Channel Islands|            9|\n",
      "|      Australia|            9|\n",
      "|    Netherlands|            9|\n",
      "|        Denmark|            9|\n",
      "|         Cyprus|            8|\n",
      "|          Japan|            8|\n",
      "|         Sweden|            8|\n",
      "|         Poland|            6|\n",
      "|         Greece|            4|\n",
      "+---------------+-------------+\n",
      "only showing top 20 rows\n",
      "\n"
     ]
    }
   ],
   "source": [
    "#To sort this table, we can include the orderBy() clause:\n",
    "df.groupBy('Country').agg(countDistinct('CustomerID').alias('country_count')).orderBy(desc('country_count')).show()"
   ]
  },
  {
   "cell_type": "code",
   "execution_count": 14,
   "id": "e2d35c96-d57d-45df-a081-361913a30483",
   "metadata": {
    "tags": []
   },
   "outputs": [
    {
     "name": "stdout",
     "output_type": "stream",
     "text": [
      "+-------------------+\n",
      "|          max(date)|\n",
      "+-------------------+\n",
      "|2012-12-10 16:21:00|\n",
      "+-------------------+\n",
      "\n"
     ]
    }
   ],
   "source": [
    "#When was the most recent purchase made by a customer on the e-commerce platform?\n",
    "spark.sql(\"set spark.sql.legacy.timeParserPolicy=LEGACY\")\n",
    "df = df.withColumn('date',to_timestamp(\"InvoiceDate\", 'yy/MM/dd HH:mm'))\n",
    "df.select(max(\"date\")).show()"
   ]
  },
  {
   "cell_type": "code",
   "execution_count": 15,
   "id": "eca2c30b-6e62-4904-b88b-306c373de2b0",
   "metadata": {
    "tags": []
   },
   "outputs": [
    {
     "name": "stdout",
     "output_type": "stream",
     "text": [
      "+-------------------+\n",
      "|          min(date)|\n",
      "+-------------------+\n",
      "|0001-04-11 10:00:00|\n",
      "+-------------------+\n",
      "\n"
     ]
    }
   ],
   "source": [
    "#When was the earliest purchase made by a customer on the e-commerce platform?\n",
    "df.select(min(\"date\")).show()"
   ]
  },
  {
   "cell_type": "markdown",
   "id": "3531423e-253b-4ff1-9c26-576d12e80f01",
   "metadata": {},
   "source": [
    "#### Step 4: Data Pre-processing"
   ]
  },
  {
   "cell_type": "code",
   "execution_count": 16,
   "id": "51454660-57ec-4a5d-b4d3-6b8e84edec7e",
   "metadata": {
    "tags": []
   },
   "outputs": [
    {
     "name": "stdout",
     "output_type": "stream",
     "text": [
      "+---------+---------+-----------------------------------+--------+------------+---------+----------+--------------+-------------------+\n",
      "|InvoiceNo|StockCode|Description                        |Quantity|InvoiceDate |UnitPrice|CustomerID|Country       |date               |\n",
      "+---------+---------+-----------------------------------+--------+------------+---------+----------+--------------+-------------------+\n",
      "|536365   |85123A   |WHITE HANGING HEART T-LIGHT HOLDER |6       |12/1/10 8:26|2,55     |17850     |United Kingdom|2012-01-10 08:26:00|\n",
      "|536365   |71053    |WHITE METAL LANTERN                |6       |12/1/10 8:26|3,39     |17850     |United Kingdom|2012-01-10 08:26:00|\n",
      "|536365   |84406B   |CREAM CUPID HEARTS COAT HANGER     |8       |12/1/10 8:26|2,75     |17850     |United Kingdom|2012-01-10 08:26:00|\n",
      "|536365   |84029G   |KNITTED UNION FLAG HOT WATER BOTTLE|6       |12/1/10 8:26|3,39     |17850     |United Kingdom|2012-01-10 08:26:00|\n",
      "|536365   |84029E   |RED WOOLLY HOTTIE WHITE HEART.     |6       |12/1/10 8:26|3,39     |17850     |United Kingdom|2012-01-10 08:26:00|\n",
      "+---------+---------+-----------------------------------+--------+------------+---------+----------+--------------+-------------------+\n",
      "only showing top 5 rows\n",
      "\n"
     ]
    }
   ],
   "source": [
    "df.show(5,0)"
   ]
  },
  {
   "cell_type": "markdown",
   "id": "519d0dcd-4ac8-4b01-a3aa-fddc7987fc79",
   "metadata": {},
   "source": [
    "##### RFM is commonly used in marketing to evaluate a client’s value based on their:\n",
    "\n",
    "1.Recency: How recently has each customer made a purchase? \n",
    "2.Frequency: How often have they bought something?\n",
    "3.Monetary Value: How much money do they spend on average when making purchases?"
   ]
  },
  {
   "cell_type": "markdown",
   "id": "e2bdf617-8959-466f-986a-affeca3f928d",
   "metadata": {},
   "source": [
    "###### Recency\n",
    "First, let’s calculate the value of recency - the latest date and time a purchase was made on the platform. This can be achieved in two steps:"
   ]
  },
  {
   "cell_type": "markdown",
   "id": "3ce6d964-8288-466b-a214-2a48c2018944",
   "metadata": {},
   "source": [
    "###### i) Assign a recency score to each customer"
   ]
  },
  {
   "cell_type": "code",
   "execution_count": 17,
   "id": "0f952970-911b-48bd-8a4b-506ccb19999b",
   "metadata": {
    "tags": []
   },
   "outputs": [],
   "source": [
    "df = df.withColumn(\"from_date\", lit(\"12/1/10 08:26\"))\n",
    "df = df.withColumn('from_date',to_timestamp(\"from_date\", 'yy/MM/dd HH:mm'))\n",
    "\n",
    "df2=df.withColumn('from_date',to_timestamp(col('from_date'))).withColumn('recency',col(\"date\").cast(\"long\") - col('from_date').cast(\"long\"))"
   ]
  },
  {
   "cell_type": "markdown",
   "id": "75db4392-9b73-47df-a0c1-c249871593d1",
   "metadata": {},
   "source": [
    "###### ii) Select the most recent purchase"
   ]
  },
  {
   "cell_type": "code",
   "execution_count": 18,
   "id": "a2f99824-0b98-4ae0-bc54-f7ed13b7dd5a",
   "metadata": {
    "tags": []
   },
   "outputs": [],
   "source": [
    "df2 = df2.join(df2.groupBy('CustomerID').agg(max('recency').alias('recency')),on='recency',how='leftsemi')"
   ]
  },
  {
   "cell_type": "code",
   "execution_count": 19,
   "id": "ed0bf539-a69b-43cf-b9d9-a2df87dafba5",
   "metadata": {
    "tags": []
   },
   "outputs": [
    {
     "name": "stdout",
     "output_type": "stream",
     "text": [
      "+-------+---------+---------+----------------------------------+--------+------------+---------+----------+--------------+-------------------+-------------------+\n",
      "|recency|InvoiceNo|StockCode|Description                       |Quantity|InvoiceDate |UnitPrice|CustomerID|Country       |date               |from_date          |\n",
      "+-------+---------+---------+----------------------------------+--------+------------+---------+----------+--------------+-------------------+-------------------+\n",
      "|540    |536369   |21756    |BATH BUILDING BLOCK WORD          |3       |12/1/10 8:35|5,95     |13047     |United Kingdom|2012-01-10 08:35:00|2012-01-10 08:26:00|\n",
      "|2040   |536371   |22086    |PAPER CHAIN KIT 50'S CHRISTMAS    |80      |12/1/10 9:00|2,55     |13748     |United Kingdom|2012-01-10 09:00:00|2012-01-10 08:26:00|\n",
      "|3960   |536375   |85123A   |WHITE HANGING HEART T-LIGHT HOLDER|6       |12/1/10 9:32|2,55     |17850     |United Kingdom|2012-01-10 09:32:00|2012-01-10 08:26:00|\n",
      "|3960   |536375   |71053    |WHITE METAL LANTERN               |6       |12/1/10 9:32|3,39     |17850     |United Kingdom|2012-01-10 09:32:00|2012-01-10 08:26:00|\n",
      "|3960   |536375   |84406B   |CREAM CUPID HEARTS COAT HANGER    |8       |12/1/10 9:32|2,75     |17850     |United Kingdom|2012-01-10 09:32:00|2012-01-10 08:26:00|\n",
      "+-------+---------+---------+----------------------------------+--------+------------+---------+----------+--------------+-------------------+-------------------+\n",
      "only showing top 5 rows\n",
      "\n"
     ]
    }
   ],
   "source": [
    "df2.show(5,0)"
   ]
  },
  {
   "cell_type": "code",
   "execution_count": 20,
   "id": "ca74b660-300e-4f7d-b870-12cc4f9a94a5",
   "metadata": {
    "tags": []
   },
   "outputs": [
    {
     "name": "stdout",
     "output_type": "stream",
     "text": [
      "root\n",
      " |-- recency: long (nullable = true)\n",
      " |-- InvoiceNo: string (nullable = true)\n",
      " |-- StockCode: string (nullable = true)\n",
      " |-- Description: string (nullable = true)\n",
      " |-- Quantity: string (nullable = true)\n",
      " |-- InvoiceDate: string (nullable = true)\n",
      " |-- UnitPrice: string (nullable = true)\n",
      " |-- CustomerID: string (nullable = true)\n",
      " |-- Country: string (nullable = true)\n",
      " |-- date: timestamp (nullable = true)\n",
      " |-- from_date: timestamp (nullable = true)\n",
      "\n"
     ]
    }
   ],
   "source": [
    "#To view all the variables present in a PySpark dataframe\n",
    "df2.printSchema()"
   ]
  },
  {
   "cell_type": "markdown",
   "id": "d6b0e893-4c2a-40b7-b334-9eb9696ebe3e",
   "metadata": {
    "tags": []
   },
   "source": [
    "###### Recency\n",
    "How often a customer bought something on the platform."
   ]
  },
  {
   "cell_type": "code",
   "execution_count": 22,
   "id": "4da04a5c-bed4-4c47-9625-c7df527826a1",
   "metadata": {
    "tags": []
   },
   "outputs": [],
   "source": [
    "df_freq = df2.groupBy('CustomerID').agg(count('InvoiceDate').alias('frequency'))"
   ]
  },
  {
   "cell_type": "code",
   "execution_count": 23,
   "id": "c622d90a-644b-4f5f-b2ff-c65fbcba69f7",
   "metadata": {
    "tags": []
   },
   "outputs": [
    {
     "name": "stdout",
     "output_type": "stream",
     "text": [
      "+----------+---------+\n",
      "|CustomerID|frequency|\n",
      "+----------+---------+\n",
      "|16250     |14       |\n",
      "|15574     |121      |\n",
      "|15271     |24       |\n",
      "|15555     |37       |\n",
      "|16320     |47       |\n",
      "+----------+---------+\n",
      "only showing top 5 rows\n",
      "\n"
     ]
    }
   ],
   "source": [
    "#Look at the head of this new dataframe we just created:\n",
    "df_freq.show(5,0)"
   ]
  },
  {
   "cell_type": "code",
   "execution_count": 24,
   "id": "e0a1b9ac-a79e-4ccc-ae7c-b994659d31b4",
   "metadata": {
    "tags": []
   },
   "outputs": [],
   "source": [
    "#Join the new dataframe with the previous one\n",
    "df3 = df2.join(df_freq,on='CustomerID',how='inner')"
   ]
  },
  {
   "cell_type": "code",
   "execution_count": 25,
   "id": "6cf8a687-68b1-41b3-a355-dae9ba92fd37",
   "metadata": {
    "tags": []
   },
   "outputs": [
    {
     "name": "stdout",
     "output_type": "stream",
     "text": [
      "root\n",
      " |-- CustomerID: string (nullable = true)\n",
      " |-- recency: long (nullable = true)\n",
      " |-- InvoiceNo: string (nullable = true)\n",
      " |-- StockCode: string (nullable = true)\n",
      " |-- Description: string (nullable = true)\n",
      " |-- Quantity: string (nullable = true)\n",
      " |-- InvoiceDate: string (nullable = true)\n",
      " |-- UnitPrice: string (nullable = true)\n",
      " |-- Country: string (nullable = true)\n",
      " |-- date: timestamp (nullable = true)\n",
      " |-- from_date: timestamp (nullable = true)\n",
      " |-- frequency: long (nullable = false)\n",
      "\n"
     ]
    }
   ],
   "source": [
    "df3.printSchema()"
   ]
  },
  {
   "cell_type": "markdown",
   "id": "ed1772bb-baed-4e7c-8f22-d39075af1566",
   "metadata": {},
   "source": [
    "###### Monetary Value\n",
    "The total amount spent by each customer in the dataframe. "
   ]
  },
  {
   "cell_type": "markdown",
   "id": "5f215fe6-a98e-4eff-9a28-a7f46712ce79",
   "metadata": {},
   "source": [
    "###### i) Find the total amount spent in each purchase:\n",
    "###### Each customerID comes with variables called “Quantity” and “UnitPrice” for a single purchase:"
   ]
  },
  {
   "cell_type": "code",
   "execution_count": 26,
   "id": "77a8b3ed-02f1-423f-a641-d3ac4d40fe63",
   "metadata": {
    "tags": []
   },
   "outputs": [],
   "source": [
    "#To get the total amount spent by each customer in one purchase:\n",
    "m_val = df3.withColumn('TotalAmount',col(\"Quantity\") * col(\"UnitPrice\"))"
   ]
  },
  {
   "cell_type": "markdown",
   "id": "07cd274f-4c36-4118-8d81-71909622d53e",
   "metadata": {},
   "source": [
    "###### ii) Find the total amount spent by each customer:"
   ]
  },
  {
   "cell_type": "code",
   "execution_count": 27,
   "id": "a27d5942-42e5-4655-8b94-1acb7b2b757f",
   "metadata": {
    "tags": []
   },
   "outputs": [],
   "source": [
    "#We just need to group by the CustomerID column and sum the total amount spent\n",
    "m_val = m_val.groupBy('CustomerID').agg(sum('TotalAmount').alias('monetary_value'))"
   ]
  },
  {
   "cell_type": "code",
   "execution_count": 28,
   "id": "26a1ffd5-c766-4c96-9e76-478b619adcbf",
   "metadata": {
    "tags": []
   },
   "outputs": [],
   "source": [
    "#Merge this dataframe with the all the other variables:\n",
    "finaldf = m_val.join(df3,on='CustomerID',how='inner')"
   ]
  },
  {
   "cell_type": "markdown",
   "id": "56de7869-6e57-45f4-ba2b-f1cdb62a96a7",
   "metadata": {},
   "source": [
    "##### To select only the required columns and drop duplicate rows from the dataframe:"
   ]
  },
  {
   "cell_type": "code",
   "execution_count": 32,
   "id": "ad0c581a-ca69-49aa-a294-8a80d1c6c7e2",
   "metadata": {
    "tags": []
   },
   "outputs": [],
   "source": [
    "finaldf = finaldf.select(['recency','frequency','monetary_value','CustomerID']).distinct()"
   ]
  },
  {
   "cell_type": "code",
   "execution_count": 34,
   "id": "2104ea6c-b3bd-47da-9e28-0baff2265373",
   "metadata": {
    "tags": []
   },
   "outputs": [
    {
     "name": "stdout",
     "output_type": "stream",
     "text": [
      "+------------+---------+--------------+----------+\n",
      "|recency     |frequency|monetary_value|CustomerID|\n",
      "+------------+---------+--------------+----------+\n",
      "|5580        |14       |null          |16250     |\n",
      "|2704800     |121      |null          |15574     |\n",
      "|21100860    |24       |null          |15271     |\n",
      "|21112020    |37       |null          |15555     |\n",
      "|-63311043300|47       |null          |16320     |\n",
      "+------------+---------+--------------+----------+\n",
      "only showing top 5 rows\n",
      "\n"
     ]
    }
   ],
   "source": [
    "finaldf.show(5,0)"
   ]
  },
  {
   "cell_type": "code",
   "execution_count": 36,
   "id": "5af0318e-de7a-401b-a78a-40c7ca0ea5a4",
   "metadata": {
    "tags": []
   },
   "outputs": [],
   "source": [
    "finaldf = finaldf.na.drop(subset=[\"monetary_value\"])"
   ]
  },
  {
   "cell_type": "code",
   "execution_count": 37,
   "id": "efb281aa-27db-4c31-9c68-526b44e4237a",
   "metadata": {
    "tags": []
   },
   "outputs": [
    {
     "name": "stdout",
     "output_type": "stream",
     "text": [
      "root\n",
      " |-- recency: long (nullable = true)\n",
      " |-- frequency: long (nullable = false)\n",
      " |-- monetary_value: double (nullable = true)\n",
      " |-- CustomerID: string (nullable = true)\n",
      "\n"
     ]
    }
   ],
   "source": [
    "finaldf.printSchema()"
   ]
  },
  {
   "cell_type": "markdown",
   "id": "5daed63a-ea37-485e-b12b-8fc49d5d184e",
   "metadata": {
    "tags": []
   },
   "source": [
    "#### Standardization"
   ]
  },
  {
   "cell_type": "code",
   "execution_count": 38,
   "id": "bd8eae7f-ea44-47ee-8c61-864fb2b08019",
   "metadata": {
    "tags": []
   },
   "outputs": [],
   "source": [
    "from pyspark.ml.feature import VectorAssembler\n",
    "from pyspark.ml.feature import StandardScaler\n",
    "\n",
    "assemble=VectorAssembler(inputCols=[\n",
    "    'recency','frequency','monetary_value'\n",
    "], outputCol='features')\n",
    "\n",
    "assembled_data=assemble.transform(finaldf)\n",
    "\n",
    "scale=StandardScaler(inputCol='features',outputCol='standardized')\n",
    "data_scale=scale.fit(assembled_data)\n",
    "data_scale_output=data_scale.transform(assembled_data)"
   ]
  },
  {
   "cell_type": "code",
   "execution_count": 39,
   "id": "77260006-6246-4f1c-92e4-ef3919941497",
   "metadata": {
    "tags": []
   },
   "outputs": [
    {
     "name": "stdout",
     "output_type": "stream",
     "text": [
      "+--------------------------------------------------------------+\n",
      "|standardized                                                  |\n",
      "+--------------------------------------------------------------+\n",
      "|[-0.0015898112497777397,0.11421176036732086,1.378424954243093]|\n",
      "|[-0.0019430583170315387,1.4657175913806177,0.3063166564984651]|\n",
      "+--------------------------------------------------------------+\n",
      "only showing top 2 rows\n",
      "\n"
     ]
    }
   ],
   "source": [
    "data_scale_output.select('standardized').show(2,truncate=False)"
   ]
  },
  {
   "cell_type": "markdown",
   "id": "7efd0faf-8fd3-45d5-bff1-3881513d74a2",
   "metadata": {},
   "source": [
    "#### Step 5: Building the Machine Learning Model"
   ]
  },
  {
   "cell_type": "markdown",
   "id": "fcb630b4-7d54-4a36-81ec-11cec273c2ce",
   "metadata": {},
   "source": [
    "##### i) Finding the number of clusters to use"
   ]
  },
  {
   "cell_type": "code",
   "execution_count": 43,
   "id": "6386221d-9c35-43d9-905f-a5a3505ae322",
   "metadata": {
    "tags": []
   },
   "outputs": [],
   "source": [
    "from pyspark.ml.clustering import KMeans\n",
    "from pyspark.ml.evaluation import ClusteringEvaluator\n",
    "import numpy as np\n",
    "\n",
    "cost = np.zeros(10)\n",
    "\n",
    "evaluator = ClusteringEvaluator(predictionCol='prediction', featuresCol='standardized',metricName='silhouette', distanceMeasure='squaredEuclidean')\n",
    "\n",
    "for i in range(2,10):\n",
    "    KMeans_algo=KMeans(featuresCol='standardized', k=i)\n",
    "    KMeans_fit=KMeans_algo.fit(data_scale_output)\n",
    "    output=KMeans_fit.transform(data_scale_output)\n",
    "    cost[i] = KMeans_fit.summary.trainingCost"
   ]
  },
  {
   "cell_type": "markdown",
   "id": "a7321e81-3dd4-4b4c-b4f6-5808fd2e2f47",
   "metadata": {},
   "source": [
    "###### With the codes above, we have successfully built and evaluated a K-Means clustering model with 2 to 10 clusters. The results have been placed in an array, and can now be visualized in a line chart:"
   ]
  },
  {
   "cell_type": "code",
   "execution_count": 44,
   "id": "46dd8a28-7648-45bc-b72a-33e6bccfb549",
   "metadata": {
    "tags": []
   },
   "outputs": [
    {
     "data": {
      "image/png": "[encoded data removed]",
      "text/plain": [
       "<Figure size 640x480 with 1 Axes>"
      ]
     },
     "metadata": {},
     "output_type": "display_data"
    }
   ],
   "source": [
    "import pandas as pd\n",
    "import pylab as pl\n",
    "df_cost = pd.DataFrame(cost[2:])\n",
    "df_cost.columns = [\"cost\"]\n",
    "new_col = range(2,10)\n",
    "df_cost.insert(0, 'cluster', new_col)\n",
    "pl.plot(df_cost.cluster, df_cost.cost)\n",
    "pl.xlabel('Number of Clusters')\n",
    "pl.ylabel('Score')\n",
    "pl.title('Elbow Curve')\n",
    "pl.show()"
   ]
  },
  {
   "cell_type": "markdown",
   "id": "65eda7d5-3fc6-44aa-8a5b-55a174a6d31b",
   "metadata": {},
   "source": [
    "##### ii) Building the K-Means Clustering Model"
   ]
  },
  {
   "cell_type": "code",
   "execution_count": 45,
   "id": "85d88885-5f4e-41ff-b49d-e18c8d721544",
   "metadata": {
    "tags": []
   },
   "outputs": [],
   "source": [
    "KMeans_algo=KMeans(featuresCol='standardized', k=4)\n",
    "KMeans_fit=KMeans_algo.fit(data_scale_output)"
   ]
  },
  {
   "cell_type": "markdown",
   "id": "f8480552-39ae-4fa0-885e-112938ffe0b8",
   "metadata": {},
   "source": [
    "##### iii) Making Predictions"
   ]
  },
  {
   "cell_type": "code",
   "execution_count": 46,
   "id": "90e38a4a-ef2e-42cf-a8bc-a30d30b35d59",
   "metadata": {
    "tags": []
   },
   "outputs": [
    {
     "name": "stdout",
     "output_type": "stream",
     "text": [
      "+------------+---------+--------------+----------+---------------------------+--------------------------------------------------------------+----------+\n",
      "|recency     |frequency|monetary_value|CustomerID|features                   |standardized                                                  |prediction|\n",
      "+------------+---------+--------------+----------+---------------------------+--------------------------------------------------------------+----------+\n",
      "|-47348280   |6        |162.0         |12394     |[-4.734828E7,6.0,162.0]    |[-0.0015898112497777397,0.11421176036732086,1.378424954243093]|0         |\n",
      "|-57868800   |77       |36.0          |12637     |[-5.78688E7,77.0,36.0]     |[-0.0019430583170315387,1.4657175913806177,0.3063166564984651]|0         |\n",
      "|-63200636760|29       |36.0          |12710     |[-6.320063676E10,29.0,36.0]|[-2.122085180584481,0.5520235084420508,0.3063166564984651]    |2         |\n",
      "|-63198042300|14       |40.0          |12816     |[-6.31980423E10,14.0,40.0] |[-2.12199806650779,0.2664941075237487,0.34035184055385015]    |2         |\n",
      "|-63190102500|2        |15.0          |15488     |[-6.31901025E10,2.0,15.0]  |[-2.121731472169812,0.03807058678910696,0.1276319402076938]   |2         |\n",
      "+------------+---------+--------------+----------+---------------------------+--------------------------------------------------------------+----------+\n",
      "only showing top 5 rows\n",
      "\n"
     ]
    }
   ],
   "source": [
    "preds=KMeans_fit.transform(data_scale_output)\n",
    "preds.show(5,0)"
   ]
  },
  {
   "cell_type": "markdown",
   "id": "07a581e6-6d6c-47df-b417-fa51c8afc063",
   "metadata": {},
   "source": [
    "##### Step 6: Cluster Analysis"
   ]
  },
  {
   "cell_type": "code",
   "execution_count": 47,
   "id": "f18b88aa-5b17-43f5-937b-ef8af2525e00",
   "metadata": {
    "tags": []
   },
   "outputs": [
    {
     "data": {
      "image/png": "[encoded data removed]",
      "text/plain": [
       "<Figure size 640x480 with 1 Axes>"
      ]
     },
     "metadata": {},
     "output_type": "display_data"
    },
    {
     "data": {
      "image/png": "[encoded data removed]",
      "text/plain": [
       "<Figure size 640x480 with 1 Axes>"
      ]
     },
     "metadata": {},
     "output_type": "display_data"
    },
    {
     "data": {
      "image/png": "[encoded data removed]",
      "text/plain": [
       "<Figure size 640x480 with 1 Axes>"
      ]
     },
     "metadata": {},
     "output_type": "display_data"
    }
   ],
   "source": [
    "import matplotlib.pyplot as plt\n",
    "import seaborn as sns\n",
    "\n",
    "df_viz = preds.select('recency','frequency','monetary_value','prediction')\n",
    "df_viz = df_viz.toPandas()\n",
    "avg_df = df_viz.groupby(['prediction'], as_index=False).mean()\n",
    "\n",
    "list1 = ['recency','frequency','monetary_value']\n",
    "\n",
    "for i in list1:\n",
    "    sns.barplot(x='prediction',y=str(i),data=avg_df)\n",
    "    plt.show()"
   ]
  }
 ],
 "metadata": {
  "kernelspec": {
   "display_name": "Python 3 (ipykernel)",
   "language": "python",
   "name": "python3"
  },
  "language_info": {
   "codemirror_mode": {
    "name": "ipython",
    "version": 3
   },
   "file_extension": ".py",
   "mimetype": "text/x-python",
   "name": "python",
   "nbconvert_exporter": "python",
   "pygments_lexer": "ipython3",
   "version": "3.10.9"
  }
 },
 "nbformat": 4,
 "nbformat_minor": 5
}
